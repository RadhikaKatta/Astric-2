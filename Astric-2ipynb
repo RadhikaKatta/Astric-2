{
 "cells": [
  {
   "cell_type": "code",
   "execution_count": 1,
   "id": "9c109715-2fbe-4a50-9809-23465b8369e7",
   "metadata": {},
   "outputs": [
    {
     "name": "stdin",
     "output_type": "stream",
     "text": [
      "enter the size: 5\n"
     ]
    },
    {
     "name": "stdout",
     "output_type": "stream",
     "text": [
      "            *  \n",
      "         *  *  *  \n",
      "      *  *  *  *  *  \n",
      "   *  *  *  *  *  *  *  \n",
      "*  *  *  *  *  *  *  *  *  \n"
     ]
    }
   ],
   "source": [
    "n=int(input(\"enter the size:\"))\n",
    "for i in range(1, n+1):\n",
    "    for j in range (n-i):\n",
    "        print('  ', end=' ')\n",
    "    for k in range(2*i-1):\n",
    "        print(\"* \", end=\" \")\n",
    "    print()\n",
    "    "
   ]
  },
  {
   "cell_type": "code",
   "execution_count": 3,
   "id": "8daf7037-1de4-41b9-a08d-d7f2d64a5e52",
   "metadata": {},
   "outputs": [
    {
     "name": "stdin",
     "output_type": "stream",
     "text": [
      "enter the size: 5\n"
     ]
    },
    {
     "name": "stdout",
     "output_type": "stream",
     "text": [
      "*  *  *  *  *  *  *  *  *  \n",
      "   *  *  *  *  *  *  *  \n",
      "      *  *  *  *  *  \n",
      "         *  *  *  \n",
      "            *  \n"
     ]
    }
   ],
   "source": [
    "n=int(input(\"enter the size:\"))\n",
    "for i in range(n,0,-1):\n",
    "    for j in range (n-i):\n",
    "        print('  ', end=' ')\n",
    "    for k in range(2*i-1):\n",
    "        print(\"* \", end=\" \")\n",
    "    print()\n",
    "    "
   ]
  },
  {
   "cell_type": "code",
   "execution_count": 13,
   "id": "bd2c82b7-e971-4790-b7e1-59a3991c4d20",
   "metadata": {},
   "outputs": [
    {
     "name": "stdin",
     "output_type": "stream",
     "text": [
      "enter the size: 5\n"
     ]
    },
    {
     "name": "stdout",
     "output_type": "stream",
     "text": [
      "            *  \n",
      "         *  *  *  \n",
      "      *  *  *  *  *  \n",
      "   *  *  *  *  *  *  *  \n",
      "*  *  *  *  *  *  *  *  *  \n",
      "   *  *  *  *  *  *  *  \n",
      "      *  *  *  *  *  \n",
      "         *  *  *  \n",
      "            *  \n"
     ]
    }
   ],
   "source": [
    "n=int(input(\"enter the size:\"))\n",
    "for i in range(1, n+1):\n",
    "    for j in range (n-i):\n",
    "        print('  ', end=' ')\n",
    "    for k in range(2*i-1):\n",
    "        print(\"* \", end=\" \")\n",
    "    print()\n",
    "for i in range(n-1,0,-1):\n",
    "    for j in range (n-i):\n",
    "        print('  ', end=' ')\n",
    "    for k in range(2*i-1):\n",
    "        print(\"* \", end=\" \")\n",
    "    print()\n",
    "    "
   ]
  },
  {
   "cell_type": "code",
   "execution_count": null,
   "id": "170a8e90-ddda-4218-8c2c-6e0ba3860a61",
   "metadata": {},
   "outputs": [],
   "source": [
    "n=int(input(\"enter the size:\"))\n",
    "for i in range(1, n+1):\n",
    "    for j in range (n-i):\n",
    "        print('  ', end=' ')\n",
    "    for k in range(2*i-1):\n",
    "        if k==0 or k==2*i-2:\n",
    "            print(\" * \", end=\" \")\n",
    "        else:\n",
    "            print(\"  \",end=\" \")\n",
    "    print()\n",
    "    \n"
   ]
  },
  {
   "cell_type": "code",
   "execution_count": null,
   "id": "e80863cf-2059-4f43-98f5-70581b084038",
   "metadata": {},
   "outputs": [],
   "source": []
  }
 ],
 "metadata": {
  "kernelspec": {
   "display_name": "Python 3 (ipykernel)",
   "language": "python",
   "name": "python3"
  },
  "language_info": {
   "codemirror_mode": {
    "name": "ipython",
    "version": 3
   },
   "file_extension": ".py",
   "mimetype": "text/x-python",
   "name": "python",
   "nbconvert_exporter": "python",
   "pygments_lexer": "ipython3",
   "version": "3.12.7"
  }
 },
 "nbformat": 4,
 "nbformat_minor": 5
}
